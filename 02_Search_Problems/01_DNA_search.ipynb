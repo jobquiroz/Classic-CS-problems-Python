{
 "cells": [
  {
   "cell_type": "markdown",
   "metadata": {},
   "source": [
    "Genes are commonly represented in computer software as a sequence of characters A, C, G, and T. Each letter represents a nucleotide, and the combination of three nucleotides is called a codon.  A codon codes for a specific aminoacid that togheter with other amino acids can form a protein.\n",
    "\n",
    "A classic task in bioinformatics software is to find a particular codon within a gene.\n",
    "\n",
    "We can represent a nucleotide as a simple `IntEnum` with four cases."
   ]
  },
  {
   "cell_type": "code",
   "execution_count": 2,
   "metadata": {},
   "outputs": [],
   "source": [
    "from enum import IntEnum        # Base class for creating enumerated constants that are also subclasses of int.\n",
    "from typing import Tuple, List\n",
    "\n",
    "Nucleotide: IntEnum = IntEnum('Nucleotide', ('A', 'C', 'G','T'))"
   ]
  },
  {
   "cell_type": "markdown",
   "metadata": {},
   "source": [
    "Codons can be defined as a tuple of three `Nucleotides`.\n",
    "A gene may be defined as a "
   ]
  },
  {
   "cell_type": "code",
   "execution_count": 3,
   "metadata": {},
   "outputs": [],
   "source": [
    "Codon = Tuple[Nucleotide, Nucleotide, Nucleotide]  #type alias for codons\n",
    "Gene = List[Codon]"
   ]
  },
  {
   "cell_type": "markdown",
   "metadata": {},
   "source": [
    "Typically, genes on the internet will be in a file format that contains a giant string representing all of the nucleotides in the gene's sequence. We will define such a string for an imaginary gene:"
   ]
  },
  {
   "cell_type": "code",
   "execution_count": 4,
   "metadata": {},
   "outputs": [],
   "source": [
    "gene_str : str = \"ACGTGGCTCTCTAACGTACGTACGTACGGGGTTTATATATACCCTAGGACTCCCTTT\""
   ]
  },
  {
   "cell_type": "markdown",
   "metadata": {},
   "source": [
    "We will also need a utility function to convert a str into a Gene"
   ]
  },
  {
   "cell_type": "code",
   "execution_count": 8,
   "metadata": {},
   "outputs": [],
   "source": [
    "def string_to_gene(s : str) -> Gene:\n",
    "    gene: Gene = []\n",
    "    for i in range(0, len(s), 3):\n",
    "        if (i + 2) >= len(s):   # don't run off end!\n",
    "            return gene\n",
    "        # initialize codon out of three nucleotides\n",
    "        codon: Codon = (Nucleotide[s[i]], Nucleotide[s[i+1]], Nucleotide[s[i+2]])\n",
    "        gene.append(codon)   #add codon to gene\n",
    "    return gene"
   ]
  },
  {
   "cell_type": "markdown",
   "metadata": {},
   "source": [
    "This function can be used to convert gene_str into a Gene"
   ]
  },
  {
   "cell_type": "code",
   "execution_count": 10,
   "metadata": {},
   "outputs": [],
   "source": [
    "my_gene: Gene = string_to_gene(gene_str)"
   ]
  },
  {
   "cell_type": "markdown",
   "metadata": {},
   "source": [
    "### Linear search"
   ]
  },
  {
   "cell_type": "markdown",
   "metadata": {},
   "source": [
    "One basic operation we may want to perform on a gene is to search it for a particular codon. \n",
    "\n",
    "A linear search goes through every element in a search space, in the order of the original data structure, until what is sought is found or the end of the data structure is reached.\n",
    "\n",
    "In the wors case, a linear search will require going through every element in a data structure, so it is of O(n) complexity, where n is the number of elements in the structure.\n",
    "\n",
    "The following code defines a linear search function for a `Gene` and a `Codon` and then tries it out."
   ]
  },
  {
   "cell_type": "code",
   "execution_count": 11,
   "metadata": {},
   "outputs": [],
   "source": [
    "def linear_contains(gene: Gene, key_codon: Codon) -> bool:\n",
    "    for codon in gene:\n",
    "        if codon == key_codon:\n",
    "            return True\n",
    "    return False"
   ]
  },
  {
   "cell_type": "code",
   "execution_count": 12,
   "metadata": {},
   "outputs": [
    {
     "name": "stdout",
     "output_type": "stream",
     "text": [
      "True\n",
      "False\n"
     ]
    }
   ],
   "source": [
    "acg: Codon = (Nucleotide.A, Nucleotide.C, Nucleotide.G)\n",
    "gat: Codon = (Nucleotide.G, Nucleotide.A, Nucleotide.T)\n",
    "print(linear_contains(my_gene, acg))   #True\n",
    "print(linear_contains(my_gene, gat))"
   ]
  },
  {
   "cell_type": "markdown",
   "metadata": {},
   "source": [
    "### Binary search"
   ]
  },
  {
   "cell_type": "markdown",
   "metadata": {},
   "source": [
    "There is a faster way than looking at every element, but it requires us to know something about the order of the data structure ahead of time. If we know that the structure is sorted, and we can instantly access any item within it by its index, we can perform a **binary search**. \n",
    "\n",
    "Based on this criteria, a sorted Python list is a perfect candidate for a binary search.\n",
    "\n",
    "A binary search works by looking at the middle element in a sorted range of elements, comparing it to the element sought, reducing the range by half based on that comparison, and starting the process over again.\n",
    "\n",
    "A binary search continually reduces the search space by half, so it has a worst-case runtime of O(log n). \n",
    "\n",
    "There is a sort-of catch, though. Unlike a linear search, a binary search requires a sorted data structure to search through, and sorting takes time. In fact, sorting takes O(n log n) time for the best sorting algorithms. If we are only going to run our seach once, and our original data structure is unsorted, it probably makes sense to just do a linear search. But if the search is going to be performed many times, the time cost of doing the sort is worth it, to reap the benefit of the greatly reduced time cost of each individual search. "
   ]
  },
  {
   "cell_type": "code",
   "execution_count": 15,
   "metadata": {},
   "outputs": [],
   "source": [
    "def binary_contains(gene: Gene, key_codon: Codon) -> bool:\n",
    "    # Looks throug entire list\n",
    "    low: int = 0\n",
    "    high: int = len(gene) - 1\n",
    "        \n",
    "    while low <= high: #while there is still a search space\n",
    "        mid: int = (low + high) // 2  # Finds the middle\n",
    "        if gene[mid] < key_codon:    #element probably is in the second half\n",
    "            low = mid + 1 \n",
    "        elif gene[mid] > key_codon:   # first hald\n",
    "            high = mid - 1\n",
    "        else:\n",
    "            return True   #codon is in the exact middle\n",
    "    return False"
   ]
  },
  {
   "cell_type": "code",
   "execution_count": 19,
   "metadata": {},
   "outputs": [
    {
     "name": "stdout",
     "output_type": "stream",
     "text": [
      "True\n",
      "False\n"
     ]
    }
   ],
   "source": [
    "my_sorted_gene: Gene = sorted(my_gene)\n",
    "print(binary_contains(my_sorted_gene, acg))  # True\n",
    "print(binary_contains(my_sorted_gene, gat))  #False"
   ]
  }
 ],
 "metadata": {
  "kernelspec": {
   "display_name": "Python 3",
   "language": "python",
   "name": "python3"
  },
  "language_info": {
   "codemirror_mode": {
    "name": "ipython",
    "version": 3
   },
   "file_extension": ".py",
   "mimetype": "text/x-python",
   "name": "python",
   "nbconvert_exporter": "python",
   "pygments_lexer": "ipython3",
   "version": "3.8.3"
  }
 },
 "nbformat": 4,
 "nbformat_minor": 4
}
