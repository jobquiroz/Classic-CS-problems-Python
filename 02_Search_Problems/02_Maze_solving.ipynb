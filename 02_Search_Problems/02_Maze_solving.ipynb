{
 "cells": [
  {
   "cell_type": "markdown",
   "metadata": {},
   "source": [
    "Finding a path through a maze is analogous to many common search problems in computer science. Why not literally find a path through a maze to illustrate the bfs, dfs and A* algorithms?"
   ]
  },
  {
   "cell_type": "code",
   "execution_count": 27,
   "metadata": {},
   "outputs": [],
   "source": [
    "from enum import Enum\n",
    "from typing import List, NamedTuple, Callable, Optional\n",
    "import random\n",
    "from math import sqrt\n",
    "#from generic_search import dfs, bfs, node_to_path, astar, Node"
   ]
  },
  {
   "cell_type": "markdown",
   "metadata": {},
   "source": [
    "The maze will be a two-dimensional grid of `Cells`. A `Cell` is an enum with `str` values where `\" \"` will represent an empty space and `\"X\"` will represent a blocked space."
   ]
  },
  {
   "cell_type": "code",
   "execution_count": 28,
   "metadata": {},
   "outputs": [],
   "source": [
    "class Cell(str, Enum):\n",
    "    EMPTY = \" \"\n",
    "    BLOCKED = \"X\"\n",
    "    START = \"S\"\n",
    "    GOAL = \"G\"\n",
    "    PATH = \"*\""
   ]
  },
  {
   "cell_type": "markdown",
   "metadata": {},
   "source": [
    "We will need a way to an individual location in the maze. This will simply be a `NamedTuple` with properties representing the row and column of the location in question."
   ]
  },
  {
   "cell_type": "code",
   "execution_count": 29,
   "metadata": {},
   "outputs": [],
   "source": [
    "class MazeLocation(NamedTuple):\n",
    "    row: int\n",
    "    column: int"
   ]
  },
  {
   "cell_type": "code",
   "execution_count": 30,
   "metadata": {},
   "outputs": [],
   "source": [
    "foo = MazeLocation(1,2)"
   ]
  },
  {
   "cell_type": "markdown",
   "metadata": {},
   "source": [
    "### Generating a random maze\n",
    "\n",
    "The `Maze` class will internally keep track of a grid (a list of lists) representing its state. It will also have instance variables for the number of rows, number of columns, start location, and goal location. Its grid will be randomly filled with blocked cells. \n",
    "\n",
    "The generated maze should be fairly sparse so that there is almost always a path from a given starting location to a given goal location. We'll let the caller of a new maze decide on the exact sparseness, but we will provide a default value of 20% blocked. \n",
    "\n",
    "When a random number beats the threshold of the `sparseness` parameter in question, we will simply replace an empty space with a wall. If we do this for every possible place in the maze, statistically, the sparseness of the maze as a whole will approximate the `sparseness` parameter supplied."
   ]
  },
  {
   "cell_type": "code",
   "execution_count": 32,
   "metadata": {},
   "outputs": [],
   "source": [
    "class Maze:\n",
    "    def __init__(self, rows: int = 10, columns: int = 10, sparseness: float = 0.2,\n",
    "                 start: MazeLocation = MazeLocation(0, 0), goal: MazeLocation = MazeLocation(9,9)) -> None:\n",
    "        # Initialize basic instance variables\n",
    "        self._rows: int = rows\n",
    "        self._columns: int = columns\n",
    "        self.start: MazeLocation = start\n",
    "        self.goal: MazeLocation = goal\n",
    "        \n",
    "        # fill the grid with empty cells\n",
    "        self._grid: List[List[Cell]] = [[Cell.EMPTY for c in range(columns)] for r in range(rows)]\n",
    "        # populate the grid with blocked cells\n",
    "        self._randomly_fill(rows, columns, sparseness)\n",
    "        # fill the start and goal locations in\n",
    "        self._grid[start.row][start.column] = Cell.START\n",
    "        self._grid[goal.row][goal.column] = Cell.GOAL\n",
    "    \n",
    "    def _randomly_fill(self, rows: int, columns: int, sparseness: float):\n",
    "        for row in range(rows):\n",
    "            for column in range(columns):\n",
    "                if random.uniform(0, 1.0) < sparseness:\n",
    "                    self._grid[row][column] = Cell.BLOCKED\n",
    "                    \n",
    "    # Return a nicely formatted version of the maze for printing\n",
    "    def __str__(self) -> str:\n",
    "        output: str = \"\"\n",
    "        for row in self._grid:\n",
    "            output += \"\".join([c.value for c in row]) + \"\\n\"\n",
    "        return output\n",
    "    \n",
    "    # Checking if a particular MazeLocation has reached the goal\n",
    "    def goal_test(self, ml: MazeLocation) -> bool:\n",
    "        return ml == self.goal\n",
    "    \n",
    "    # How can we move within our maze?\n",
    "    # The next function can find the possible next locations from a given MazeLocation\n",
    "    # Since each maze is different, this function is defined within this class.\n",
    "    def successors (self, ml: MazeLocation) -> List[MazeLocation]:\n",
    "        locations: List[MazeLocation] = []\n",
    "        if ml.row + 1 < self._rows and self._grid[ml.row + 1][ml.column] != Cell.BLOCKED:\n",
    "            locations.append(MazeLocation(ml.row + 1, ml.column))\n",
    "        if ml.row - 1 >= 0 and self._grid[ml.row - 1][ml.column] != Cell.BLOCKED:\n",
    "            locations.append(MazeLocation(ml.row - 1, ml.column))\n",
    "        if ml.column + 1 < self._columns and self._grid[ml.row][ml.column + 1] != Cell.BLOCKED:\n",
    "            locations.append(MazeLocation(ml.row, ml.column + 1))\n",
    "        if ml.column - 1 >= 0 and self._grid[ml.row][ml.column - 1] != Cell.BLOCKED:\n",
    "            locations.append(MazeLocation(ml.row, ml.column - 1))\n",
    "        return locations"
   ]
  },
  {
   "cell_type": "code",
   "execution_count": 33,
   "metadata": {},
   "outputs": [
    {
     "name": "stdout",
     "output_type": "stream",
     "text": [
      "S   X     \n",
      "          \n",
      "  XXX     \n",
      " X        \n",
      "    XX    \n",
      " X        \n",
      "X     X  X\n",
      "      X   \n",
      "X X       \n",
      "  X      G\n",
      "\n"
     ]
    }
   ],
   "source": [
    "# Testing...\n",
    "maze: Maze = Maze()\n",
    "    \n",
    "print(maze)"
   ]
  },
  {
   "cell_type": "markdown",
   "metadata": {},
   "source": [
    "## Depth-first search"
   ]
  }
 ],
 "metadata": {
  "kernelspec": {
   "display_name": "Python 3",
   "language": "python",
   "name": "python3"
  },
  "language_info": {
   "codemirror_mode": {
    "name": "ipython",
    "version": 3
   },
   "file_extension": ".py",
   "mimetype": "text/x-python",
   "name": "python",
   "nbconvert_exporter": "python",
   "pygments_lexer": "ipython3",
   "version": "3.8.3"
  }
 },
 "nbformat": 4,
 "nbformat_minor": 4
}
