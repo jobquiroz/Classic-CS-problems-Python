{
 "cells": [
  {
   "cell_type": "markdown",
   "metadata": {},
   "source": [
    "Finding a path through a maze is analogous to many common search problems in computer science. Why not literally find a path through a maze to illustrate the bfs, dfs and A* algorithms?"
   ]
  },
  {
   "cell_type": "code",
   "execution_count": 50,
   "metadata": {},
   "outputs": [],
   "source": [
    "from enum import Enum\n",
    "from typing import List, NamedTuple, Callable, Optional #, Generic\n",
    "import random\n",
    "from math import sqrt\n",
    "from __future__ import annotations\n",
    "#from generic_search import dfs, bfs, node_to_path, astar, Node\n",
    "\n",
    "%run 01_generic_example.ipynb"
   ]
  },
  {
   "cell_type": "markdown",
   "metadata": {},
   "source": [
    "The maze will be a two-dimensional grid of `Cells`. A `Cell` is an enum with `str` values where `\" \"` will represent an empty space and `\"X\"` will represent a blocked space."
   ]
  },
  {
   "cell_type": "code",
   "execution_count": 51,
   "metadata": {},
   "outputs": [],
   "source": [
    "class Cell(str, Enum):\n",
    "    EMPTY = \" \"\n",
    "    BLOCKED = \"X\"\n",
    "    START = \"S\"\n",
    "    GOAL = \"G\"\n",
    "    PATH = \"*\""
   ]
  },
  {
   "cell_type": "markdown",
   "metadata": {},
   "source": [
    "We will need a way to an individual location in the maze. This will simply be a `NamedTuple` with properties representing the row and column of the location in question."
   ]
  },
  {
   "cell_type": "code",
   "execution_count": 52,
   "metadata": {},
   "outputs": [],
   "source": [
    "class MazeLocation(NamedTuple):\n",
    "    row: int\n",
    "    column: int"
   ]
  },
  {
   "cell_type": "code",
   "execution_count": 53,
   "metadata": {},
   "outputs": [
    {
     "name": "stdout",
     "output_type": "stream",
     "text": [
      "MazeLocation(row=1, column=2)\n"
     ]
    }
   ],
   "source": [
    "# foo = MazeLocation(1,2)\n",
    "\n",
    "# print(foo)"
   ]
  },
  {
   "cell_type": "code",
   "execution_count": 1,
   "metadata": {},
   "outputs": [],
   "source": [
    "foo.column"
   ]
  },
  {
   "cell_type": "markdown",
   "metadata": {},
   "source": [
    "### Generating a random maze\n",
    "\n",
    "The `Maze` class will internally keep track of a grid (a list of lists) representing its state. It will also have instance variables for the number of rows, number of columns, start location, and goal location. Its grid will be randomly filled with blocked cells. \n",
    "\n",
    "The generated maze should be fairly sparse so that there is almost always a path from a given starting location to a given goal location. We'll let the caller of a new maze decide on the exact sparseness, but we will provide a default value of 20% blocked. \n",
    "\n",
    "When a random number beats the threshold of the `sparseness` parameter in question, we will simply replace an empty space with a wall. If we do this for every possible place in the maze, statistically, the sparseness of the maze as a whole will approximate the `sparseness` parameter supplied."
   ]
  },
  {
   "cell_type": "code",
   "execution_count": 55,
   "metadata": {},
   "outputs": [],
   "source": [
    "class Maze:\n",
    "    def __init__(self, rows: int = 10, columns: int = 10, sparseness: float = 0.2,\n",
    "                 start: MazeLocation = MazeLocation(0, 0), goal: MazeLocation = MazeLocation(9,9)) -> None:\n",
    "        # Initialize basic instance variables\n",
    "        self._rows: int = rows\n",
    "        self._columns: int = columns\n",
    "        self.start: MazeLocation = start\n",
    "        self.goal: MazeLocation = goal\n",
    "        \n",
    "        # fill the grid with empty cells\n",
    "        self._grid: List[List[Cell]] = [[Cell.EMPTY for c in range(columns)] for r in range(rows)]\n",
    "        # populate the grid with blocked cells\n",
    "        self._randomly_fill(rows, columns, sparseness)\n",
    "        # fill the start and goal locations in\n",
    "        self._grid[start.row][start.column] = Cell.START\n",
    "        self._grid[goal.row][goal.column] = Cell.GOAL\n",
    "    \n",
    "    def _randomly_fill(self, rows: int, columns: int, sparseness: float):\n",
    "        for row in range(rows):\n",
    "            for column in range(columns):                   #Genius!\n",
    "                if random.uniform(0, 1.0) < sparseness:\n",
    "                    self._grid[row][column] = Cell.BLOCKED\n",
    "                    \n",
    "    # Return a nicely formatted version of the maze for printing\n",
    "    def __str__(self) -> str:\n",
    "        output: str = \"\"\n",
    "        for row in self._grid:\n",
    "            output += \"\".join([c.value for c in row]) + \"\\n\"\n",
    "        return output\n",
    "    \n",
    "    # Checking if a particular MazeLocation has reached the goal\n",
    "    def goal_test(self, ml: MazeLocation) -> bool:\n",
    "        return ml == self.goal\n",
    "    \n",
    "    # How can we move within our maze?\n",
    "    # The next function can find the possible next locations from a given MazeLocation\n",
    "    # Since each maze is different, this function is defined within this class.\n",
    "    def successors (self, ml: MazeLocation) -> List[MazeLocation]:\n",
    "        locations: List[MazeLocation] = []\n",
    "        if ml.row + 1 < self._rows and self._grid[ml.row + 1][ml.column] != Cell.BLOCKED:\n",
    "            locations.append(MazeLocation(ml.row + 1, ml.column))\n",
    "        if ml.row - 1 >= 0 and self._grid[ml.row - 1][ml.column] != Cell.BLOCKED:\n",
    "            locations.append(MazeLocation(ml.row - 1, ml.column))\n",
    "        if ml.column + 1 < self._columns and self._grid[ml.row][ml.column + 1] != Cell.BLOCKED:\n",
    "            locations.append(MazeLocation(ml.row, ml.column + 1))\n",
    "        if ml.column - 1 >= 0 and self._grid[ml.row][ml.column - 1] != Cell.BLOCKED:\n",
    "            locations.append(MazeLocation(ml.row, ml.column - 1))\n",
    "        return locations\n",
    "    \n",
    "    # For display purposes, it will be useful to mark up the maze with the successful path, \n",
    "    #the start date, and the goal state. It will also be useful to be able to remove a path so \n",
    "    #that we can try different search algorithms on the same maze. The following two methods \n",
    "    #are therefore added to the `Maze` class.\n",
    "    def mark(self, path: List[MazeLocation]):\n",
    "        for maze_location in path:\n",
    "            self._grid[maze_location.row][maze_location.column] = Cell.PATH\n",
    "        self._grid[self.start.row][self.start.column] = Cell.START\n",
    "        self._grid[self.goal.row][self.goal.column] = Cell.GOAL\n",
    "    \n",
    "    def clear(self, path: List[MazeLocation]):\n",
    "        for maze_location in path:\n",
    "            self._grid[maze_location.row][maze_location.column] = Cell.EMPTY\n",
    "        self._grid[self.start.row][self.start.column] = Cell.START\n",
    "        self._grid[self.goal.row][self.goal.column] = Cell.GOAL"
   ]
  },
  {
   "cell_type": "code",
   "execution_count": 56,
   "metadata": {},
   "outputs": [
    {
     "name": "stdout",
     "output_type": "stream",
     "text": [
      "SX        \n",
      "   XX    X\n",
      "   XX  X  \n",
      "     X  X \n",
      "  X       \n",
      "          \n",
      "  X       \n",
      "XX      X \n",
      " X     X  \n",
      "    XX X G\n",
      "\n"
     ]
    }
   ],
   "source": [
    "# # Testing...\n",
    "# maze: Maze = Maze()\n",
    "    \n",
    "# print(maze)"
   ]
  },
  {
   "attachments": {
    "image.png": {
     "image/png": "[encoded data removed]"
    }
   },
   "cell_type": "markdown",
   "metadata": {},
   "source": [
    "## Depth-first search\n",
    "\n",
    "The depth-first search algorithm relies on a data structure known as a *stack*. A stack is a data structure that operates under the Last-In-First-Out (LIFO) principle. \n",
    "\n",
    "It is common for a stack to be implemented on top of a more primitive data structure like a list. We will implement our stack on top of Python's `list` type. \n",
    "\n",
    "Stacks generally have at least two operations:\n",
    "\n",
    "- `push()` - Places an item on top of the stack\n",
    "- `pop()` - Removes the item from the top of the stack and returns it.\n",
    "\n",
    "We will implement both of these, as well as an `empty` property to check if the stack has any more items in it.\n",
    "\n",
    "![image.png](attachment:image.png)"
   ]
  },
  {
   "cell_type": "code",
   "execution_count": 57,
   "metadata": {},
   "outputs": [],
   "source": [
    "class Stack(Generic[T]):\n",
    "    def __init__(self) -> None:\n",
    "        self._container: List[T] = []\n",
    "            \n",
    "    @property  # Esto permite esto: Stack().empty\n",
    "    def empty(self) -> bool:\n",
    "        return not self._container  # not is true for empty container\n",
    "    \n",
    "    def push(self, item: T) -> None:\n",
    "        self._container.append(item)\n",
    "        \n",
    "    def pop(self) -> T:\n",
    "        return self._container.pop()    # LIFO()\n",
    "    \n",
    "    def __repr__(self) -> str:\n",
    "        return repr(self._container)"
   ]
  },
  {
   "cell_type": "markdown",
   "metadata": {},
   "source": [
    "Implementing a stack using a Python `list` is as simple as always appending items onto its right end and always removing items from its extreme right end.\n",
    "\n",
    "The `pop()` method in `list` will fail if there are no longer any items in the list, so `pop()` will fail on a `Stack` if it is empty as well."
   ]
  },
  {
   "cell_type": "markdown",
   "metadata": {},
   "source": [
    "#### The DFS Algoritm\n",
    "\n",
    "We need a `Node` class that we will use to keep track of how we got from one state to another state as we search. You can thing of a `Node` as a wrapper around a state. \n",
    "\n",
    "In the case of our maze-solving problem, those states are of type `MazeLocation`. We'll call the `Node`that a state came from its `parent`. We will also define our `Node` class as having `cost` and `heuristic` properties and with `__lt__()` implemented, so we can reuse it later in the A* algorithm."
   ]
  },
  {
   "cell_type": "code",
   "execution_count": 58,
   "metadata": {},
   "outputs": [],
   "source": [
    "class Node(Generic[T]):\n",
    "    def __init__(self, state:T, parent: Optional[Node], cost: float = 0.0, heuristic: float = 0.0) -> None:\n",
    "        self.state: T = state\n",
    "        self.parent: Optional[Node] = parent\n",
    "        self.cost: float = cost\n",
    "        self.heuristic: float = heuristic\n",
    "    \n",
    "    def __lt__(self, other: Node) -> bool:\n",
    "        return (self.cost + self.heuristic) < (other.cost + other.heuristic)"
   ]
  },
  {
   "cell_type": "markdown",
   "metadata": {},
   "source": [
    "*The `Optional` type indicates that a value of a parameterized type may be referenced by the variable, or the variables may reference `None`*"
   ]
  },
  {
   "cell_type": "markdown",
   "metadata": {},
   "source": [
    "An in-progress depth-first search needs to keep track of two data structures: the stack of states (or places) that we are considering searching, which we call the `frontier`; and the set of states that we have already searched, which we will call `explored`. \n",
    "\n",
    "As long as there are more states to visit in the frontier, DFS will keep checking wheter they are the goal (if a state is the goal, DFS will stop and return it) and adding their successors to the frontier. It will also mark each state that has already been searched and explored, so that the search does not get caught in a circle, reaching states that have prior visited states as successors. If the frontier is empty, it means there is nowhere left to search."
   ]
  },
  {
   "cell_type": "code",
   "execution_count": 59,
   "metadata": {},
   "outputs": [],
   "source": [
    "def dfs(initial: T, goal_test: Callable[[T], bool], successors: Callable[[T], List[T]]) -> Optional[Node[T]]:\n",
    "    #frontier is where we've yet to go\n",
    "    frontier: Stack[Node[T]] = Stack()\n",
    "    frontier.push(Node(initial, None))\n",
    "    \n",
    "    # explored is where we've been\n",
    "    explored: Set[T] = {initial}\n",
    "        \n",
    "    # keep going while there is more to explore\n",
    "    while not frontier.empty:\n",
    "        current_node: Node[T] = frontier.pop()\n",
    "        current_state: T = current_node.state\n",
    "        \n",
    "        # if we found the goal, we're done\n",
    "        if goal_test(current_state):\n",
    "            return current_node\n",
    "        \n",
    "        # check where we can go next and haven't explored\n",
    "        for child in successors(current_state):\n",
    "            if child in explored:   # skip children we already explored\n",
    "                continue\n",
    "            explored.add(child)\n",
    "            frontier.push(Node(child, current_node))\n",
    "    \n",
    "    return None  # went through everything and never found goal\n",
    "        "
   ]
  },
  {
   "cell_type": "markdown",
   "metadata": {},
   "source": [
    "If `dfs()` is successful, it returns the `Node` encapsulating the goal state. The path from the start to the goal can be reconstructed by working backwards from this `Node` and its priors using the parent property. "
   ]
  },
  {
   "cell_type": "code",
   "execution_count": 60,
   "metadata": {},
   "outputs": [],
   "source": [
    "def node_to_path(node: Node[T]) -> List[T]:\n",
    "    path: List[T] = [node.state]\n",
    "    \n",
    "    # work backwards from end to front\n",
    "    while node.parent is not None:\n",
    "        node = node.parent\n",
    "        path.append(node.state)\n",
    "    path.reverse()\n",
    "    return path"
   ]
  },
  {
   "cell_type": "markdown",
   "metadata": {},
   "source": [
    "For display purposes, it will be useful to mark up the maze with the successful path, the start date, and the goal state. It will also be useful to be able to remove a path so that we can try different search algorithms on the same maze. The following two methods should be added to the `Maze` class. --> *Added to class...*"
   ]
  },
  {
   "cell_type": "markdown",
   "metadata": {},
   "source": [
    "It has been a long journy, but we are finally ready to solve the maze."
   ]
  },
  {
   "cell_type": "code",
   "execution_count": 61,
   "metadata": {},
   "outputs": [
    {
     "name": "stdout",
     "output_type": "stream",
     "text": [
      "S   X X   \n",
      "    X     \n",
      "      X   \n",
      "   XX    X\n",
      "     X    \n",
      "      X   \n",
      "     XX  X\n",
      "          \n",
      " X       X\n",
      "    X X  G\n",
      "\n",
      "S***X X   \n",
      "   *X     \n",
      "****  X   \n",
      "*  XX    X\n",
      "*****X    \n",
      "    * X   \n",
      "*****XX  X\n",
      "*         \n",
      "*X ******X\n",
      "****X X *G\n",
      "\n"
     ]
    }
   ],
   "source": [
    "# if __name__ == \"__main__\":\n",
    "#     # Test DFS\n",
    "#     m: Maze = Maze()\n",
    "#     print(m)\n",
    "#     solution1: Optional[Node[MazeLocation]] = dfs(m.start, m.goal_test, m.successors)\n",
    "#     if solution1 is None:\n",
    "#         print('No solution found using depth-first search!')\n",
    "#     else:\n",
    "#         path1 : List[MazeLocation] = node_to_path(solution1)\n",
    "#         m.mark(path1)\n",
    "#         print(m)\n",
    "#         m.clear(path1)"
   ]
  },
  {
   "cell_type": "markdown",
   "metadata": {},
   "source": [
    "The asterisks represent the path that our dfs function found from the start to the goal. Remember, because each maze is randomly generated not every maz has a solution."
   ]
  },
  {
   "cell_type": "markdown",
   "metadata": {},
   "source": [
    "## The BFS algorithm\n",
    "\n",
    "The algorithm for a breadth-first search is identical to the algorithm for a dfs search, with **the frontier changed from a stack to a queue**. \n",
    "\n",
    "Changing the frontier from a stack to a queue changes the order in which states are searched and ensure that the states closest to the start state are searched first."
   ]
  },
  {
   "cell_type": "markdown",
   "metadata": {},
   "source": [
    "#### Queues\n",
    "Whereas a stack is LIFO, a queue is FIFO. It is like a line to use a restroom. \n",
    "\n",
    "At a minimum, a queue has the same `push()` and `pop()` methods as a stack. In fact, our implementation for `Queue`(backed by a Python `deque`) is amost identical to our implementation for `Stack`, with the only changes being the removal of elements from the left end of the `_container` instead of the right end and the switch from a `list` to a `deque`. "
   ]
  },
  {
   "cell_type": "code",
   "execution_count": 62,
   "metadata": {},
   "outputs": [],
   "source": [
    "class Queue(Generic[T]): \n",
    "    def __init__(self) -> None:\n",
    "        self._container: Deque[T] = Deque()\n",
    "    \n",
    "    @property\n",
    "    def empty(self) -> bool:\n",
    "        return not self._container  # not is true for empty container\n",
    "    \n",
    "    def push(self, item: T) -> None:\n",
    "        self._container.append(item)\n",
    "    \n",
    "    def pop(self) -> T:\n",
    "        return self._container.popleft()  # FIFO   .popleft() is O(1) for Deque()'s\n",
    "\n",
    "    def __repr__(self) -> str:\n",
    "        return repr(self._container)"
   ]
  },
  {
   "cell_type": "code",
   "execution_count": 63,
   "metadata": {},
   "outputs": [],
   "source": [
    "def bfs(initial: T, goal_test: Callable[[T], bool], successors: Callable[[T], List[T]]) -> Optional[Node[T]]:\n",
    "    \n",
    "    #frontier is where we've yet to go\n",
    "    frontier: Queu[Node[T]] = Queue()\n",
    "    frontier.push(Node(initial, None))\n",
    "    \n",
    "    # explored is where we've been\n",
    "    explored: Set[T] = {initial}\n",
    "        \n",
    "    # keep going while there is more to explore\n",
    "    while not frontier.empty:\n",
    "        current_node: Node[T] = frontier.pop()\n",
    "        current_state: T = current_node.state\n",
    "        \n",
    "        # if we found the goal, we're done\n",
    "        if goal_test(current_state):\n",
    "            return current_node\n",
    "        \n",
    "        # check where we can go next and haven't explored\n",
    "        for child in successors(current_state):\n",
    "            if child in explored:   # skip children we already explored\n",
    "                continue\n",
    "            explored.add(child)\n",
    "            frontier.push(Node(child, current_node))\n",
    "    \n",
    "    return None  # went through everything and never found goal\n",
    "        "
   ]
  },
  {
   "cell_type": "code",
   "execution_count": 66,
   "metadata": {},
   "outputs": [
    {
     "name": "stdout",
     "output_type": "stream",
     "text": [
      "S    X    \n",
      "          \n",
      " X X      \n",
      "X       X \n",
      "X    X    \n",
      "  X       \n",
      "X       X \n",
      "X   X     \n",
      "          \n",
      "     X   G\n",
      "\n",
      "S****X    \n",
      "    ******\n",
      " X X     *\n",
      "X****** X*\n",
      "X*   X****\n",
      " *X       \n",
      "X*******X \n",
      "X   X  ***\n",
      "         *\n",
      "     X   G\n",
      "\n",
      "\n",
      "\n",
      "S    X    \n",
      "***       \n",
      " X*X      \n",
      "X *     X \n",
      "X ** X    \n",
      "  X*      \n",
      "X  *    X \n",
      "X  *X     \n",
      "   ****   \n",
      "     X***G\n",
      "\n"
     ]
    }
   ],
   "source": [
    "if __name__ == \"__main__\":\n",
    "    # Test DFS\n",
    "    m: Maze = Maze()\n",
    "    print(m)\n",
    "    solution1: Optional[Node[MazeLocation]] = dfs(m.start, m.goal_test, m.successors)\n",
    "    if solution1 is None:\n",
    "        print('No solution found using depth-first search!')\n",
    "    else:\n",
    "        path1 : List[MazeLocation] = node_to_path(solution1)\n",
    "        m.mark(path1)\n",
    "        print(m)\n",
    "        m.clear(path1)\n",
    "        \n",
    "    print('\\n')\n",
    "    \n",
    "    # Test BFS\n",
    "    solution2: Optional[Node[MazeLocation]] = bfs(m.start, m.goal_test, m.successors)\n",
    "    if solution2 is None:\n",
    "        print(\"No solution found using breadth-first search!\")\n",
    "    else:\n",
    "        path2: List[MazeLocation] = node_to_path(solution2)\n",
    "        m.mark(path2)\n",
    "        print(m)\n",
    "        m.clear(path2)"
   ]
  },
  {
   "cell_type": "markdown",
   "metadata": {},
   "source": [
    "**It is amazing that you can keep an algorithm the same and just change the data structure that it accesses and get radically different results.**"
   ]
  },
  {
   "cell_type": "markdown",
   "metadata": {},
   "source": [
    "## A* search\n",
    "\n",
    "Life a BFS, an A* search aims to find the shortest path from start state to goal state. Unlike the preceding BFS implementation, an A* search uses a combination of a cost function and a heuristic function to focus its search on pathways most likely to get to the goal quickly.\n",
    "\n",
    "The cost function $g(n)$ examines the cost to get to a particular state. In the case of our maze, this would be how many previous steps we had to go through to get to the state in question. The heuristic function $h(n)$ gives an estimate of the cost to get from the state in question to the goal state. \n",
    "\n",
    "It can be proved that if $h(n)$ is an *admissible heuristic*, then the final path found will be optimal. An admissible heuristic is one that never overestimates the cost to reach the goal.\n",
    "\n",
    "The total cost for any state being considered is $f(n)$, which is simply the combination of $g(n)$ and $h(n)$. In fact, $f(n) = g(n) + h(n)$. When choosing the next state to explore the frontier, an A* search picks the one with the lowest $f(n)$. This is how it distinguishes itself from BFS and DFS."
   ]
  },
  {
   "cell_type": "markdown",
   "metadata": {},
   "source": [
    "### Priority Queues\n",
    "\n",
    "A priority queue keeps its elements in an internal order, such that the first element popped out is always the *highest-priority element*. In our case, the one with the lowest $f(n)$.  Usually this means the internal use of a binary heap, which results in $O(log n)$ pushes and $O(log n)$ pops.\n",
    "\n",
    "Python's standard library contains `heappush()`and `heappop()` functions that will take a list and maintain it as a binary heap. We can implement a priority queue by building a thing wrapper around these functions. Our `PriorityQueue` class will be similar to our `Stack` and `Queue` classes, with the `push()` and `pop()` methods modified to use `heappush()` and `heappop()`."
   ]
  },
  {
   "cell_type": "code",
   "execution_count": 67,
   "metadata": {},
   "outputs": [],
   "source": [
    "class PriorityQueue(Generic[T]):\n",
    "    def __init__(self) -> None:\n",
    "        self._container: List[T] = []\n",
    "    \n",
    "    @property\n",
    "    def empty(self) -> bool:\n",
    "        return not self._container     # not is True for empty container\n",
    "    \n",
    "    def push(self, item: T) -> None:\n",
    "        heappush(self._container, item)    # in by priority\n",
    "        \n",
    "    def pop(self) -> T:\n",
    "        return heappop(self._container)   #out by priority\n",
    "    \n",
    "    def __repr__(self) -> str:\n",
    "        return repr(self._container)"
   ]
  },
  {
   "cell_type": "markdown",
   "metadata": {},
   "source": [
    "To determine the priority of a particular element versus another of its kind, `heappush()` and `heappop()`, compare them by using the `<` operator. This is why we needed to implement `__lt__()` on `Node` earlier. One `Node` is compared to another by looking at its respective $f(n)$."
   ]
  },
  {
   "cell_type": "markdown",
   "metadata": {},
   "source": [
    "### Heuristics\n",
    "\n",
    "**A *heuristic* is an intuition about the way to solve a problem.** It is an educated guess. \n",
    "\n",
    "Heuristics that calculate smaller values end up leading to a search through more states, whereas heuristics closer to the\n",
    "exact real distance (but not over it, which would make them inadmissible) lead to a search through fewer states. Therefore, ideal heuristics come as close to the real distance as possible without ever going over it.\n",
    "\n",
    "\n",
    "#### Eucledian distance"
   ]
  },
  {
   "cell_type": "code",
   "execution_count": 68,
   "metadata": {},
   "outputs": [],
   "source": [
    "def eucledian_distance(goal: MazeLocation) -> Callable[[Mazelocation], float]:\n",
    "    def distance(ml: MazeLocation) -> float:\n",
    "        xdist: int = ml.column - goal.column\n",
    "        ydist: int = ml.row - goal.row\n",
    "        return sqrt(xdist**2 + ydist**2)\n",
    "    return distance"
   ]
  },
  {
   "cell_type": "markdown",
   "metadata": {},
   "source": [
    "This is a function that returns another function. Languages like Python that support first-class functions enable **this interesting pattern:**\n",
    "\n",
    "`distance()` captures the `goal MazeLocation` that `eucledian_distance()` is passed. Captuing means that `distance()` can refer to this variable everytime it's called (permanently). The function it returns makes use of `goal` to do its calculations. This pattern enables the creation of a function that requires fewer parameters. \n",
    "\n",
    "The returned `distance()` function takes just the start maze location as an argument and permanently \"knows\" the goal."
   ]
  },
  {
   "cell_type": "markdown",
   "metadata": {},
   "source": [
    "#### Manhattan distance\n",
    "\n",
    "Eucledian distance is great but for our particular problem we can do better.  The Manhattan distance is derived by simply finding the difference in rows between two maze locations and summing it with the difference in columns."
   ]
  },
  {
   "cell_type": "code",
   "execution_count": 69,
   "metadata": {},
   "outputs": [],
   "source": [
    "def manhattan_distance(goal: MazeLocation) -> Callable[[Mazelocation], float]:\n",
    "    def distance(ml: MazeLocation) -> float:\n",
    "        xdist: int = ml.column - goal.column\n",
    "        ydist: int = ml.row - goal.row\n",
    "        return xdist + ydist\n",
    "    return distance"
   ]
  },
  {
   "cell_type": "markdown",
   "metadata": {},
   "source": [
    "Because this heuristic more accurately follows the actuality of navigating our mazes (moving vertically and horizontally instead of in diagonal straight lines), it comes closer to the actual distance between any maze location and the goal than Euclidean distance does. \n",
    "\n",
    "Therefore, when an A* search is coupled with Manhattan distance, it will result in searching through fewer states than when an A* search is coupled with Euclidean distance for our mazes. Solution paths will still be optimal, because Manhattan distance is admissible (never overestimates distance) for mazes in which only four directions of movement are allowed."
   ]
  },
  {
   "cell_type": "markdown",
   "metadata": {},
   "source": [
    "### A* algorithm\n",
    "\n",
    "To go from BFS to A* search, we need to make several small modifications. The first is changing the frontier from a queue to a priority queue. This way, the frontier will pop nodes with the lowest f(n). \n",
    "\n",
    "The second is changing the explored set to a dictionary. A dictionary will allow us to keep track of the lowest cost (g(n)) of each node we may visit. With the heuristic function now at play, it is possible some nodes may be visited twice if the heuristic is inconsistent. If the node found through the new direction has a lower cost to get to than the prior time we visited it, we will prefer the new route.\n",
    "\n",
    "\n",
    "For the sake of simplicity, the function `astar()` does not take a cost-calculation function as a parameter. Instead, we just consider every hop in our maze to be **a cost of 1**. Each new `Node` gets assigned a cost based on this simple formula, as well as a heuristic score using a new function passed as a parameter to the search function called `heuristic()`. Other than these changes, `astar()` is remarkably similar to `bfs()`."
   ]
  },
  {
   "cell_type": "code",
   "execution_count": 71,
   "metadata": {},
   "outputs": [],
   "source": [
    "def astar (initial: T, goal_test: Callable[[T], bool], successors: Callable[[T], List[T]],\n",
    "           heuristic: Callable[[T], float]) -> Optional[Node[T]]:\n",
    "    \n",
    "    #frontier is where we've yet to go\n",
    "    frontier: PriorityQueue[Node[T]] = PriorityQueue()\n",
    "    frontier.push(Node(initial, None, 0.0, heuristic(initial)))\n",
    "    \n",
    "    # explored is where we've been\n",
    "    explored: Dict[T, float] = {initial: 0.0}\n",
    "        \n",
    "    # keep going while there is more to explore\n",
    "    while not frontier.empty:\n",
    "        current_node: Node[T] = frontier.pop()\n",
    "        current_state: T = current_node.state\n",
    "        \n",
    "        # if we found the goal, we're done\n",
    "        if goal_test(current_state):\n",
    "            return current_node\n",
    "        \n",
    "        # check where we can go next and haven't explored\n",
    "        for child in successors(current_state):            \n",
    "            new_cost : float = current_node.cost + 1   # 1 assumes a grid, need a cost function for more sophisticated apps\n",
    "            \n",
    "            if child not in explored or explored[child] > new_cost: # If a successor child hasn't been explored \n",
    "                                                                    # or if we have a different cost for an explored node\n",
    "                explored[child] = new_cost   # add or update cost\n",
    "                frontier.push(Node(child, current_node, new_cost, heuristic(child)))  # add it to the frontier\n",
    "    \n",
    "    return None  # went through everything and never found goal"
   ]
  },
  {
   "cell_type": "code",
   "execution_count": 77,
   "metadata": {},
   "outputs": [
    {
     "name": "stdout",
     "output_type": "stream",
     "text": [
      "S        X\n",
      "     X X X\n",
      "   X X  X \n",
      "X X    X X\n",
      "  XX      \n",
      "   X X X  \n",
      "XX        \n",
      " X       X\n",
      "   XX     \n",
      " X X   X G\n",
      "\n",
      "S******  X\n",
      "     X*X X\n",
      "   X X* X \n",
      "X X ***X X\n",
      "  XX*     \n",
      "   X*X X  \n",
      "XX  ***** \n",
      " X      *X\n",
      "   XX   **\n",
      " X X   X G\n",
      "\n",
      "\n",
      "\n",
      "S        X\n",
      "*    X X X\n",
      "** X X  X \n",
      "X*X    X X\n",
      " *XX      \n",
      " **X X X  \n",
      "XX*       \n",
      " X****   X\n",
      "   XX**** \n",
      " X X   X*G\n",
      "\n",
      "S        X\n",
      "*    X X X\n",
      "** X X  X \n",
      "X*X    X X\n",
      " *XX      \n",
      " **X X X  \n",
      "XX**      \n",
      " X ***   X\n",
      "   XX**** \n",
      " X X   X*G\n",
      "\n"
     ]
    }
   ],
   "source": [
    "# if __name__ == \"__main__\":\n",
    "#     # Test DFS\n",
    "#     m: Maze = Maze()\n",
    "#     print(m)\n",
    "#     solution1: Optional[Node[MazeLocation]] = dfs(m.start, m.goal_test, m.successors)\n",
    "#     if solution1 is None:\n",
    "#         print('No solution found using depth-first search!')\n",
    "#     else:\n",
    "#         path1 : List[MazeLocation] = node_to_path(solution1)\n",
    "#         m.mark(path1)\n",
    "#         print(m)\n",
    "#         m.clear(path1)\n",
    "        \n",
    "#     print('\\n')\n",
    "    \n",
    "#     # Test BFS\n",
    "#     solution2: Optional[Node[MazeLocation]] = bfs(m.start, m.goal_test, m.successors)\n",
    "#     if solution2 is None:\n",
    "#         print(\"No solution found using breadth-first search!\")\n",
    "#     else:\n",
    "#         path2: List[MazeLocation] = node_to_path(solution2)\n",
    "#         m.mark(path2)\n",
    "#         print(m)\n",
    "#         m.clear(path2)\n",
    "    \n",
    "#     # Test A*\n",
    "#     distance: Callable[[MazeLocation], float] = manhattan_distance(m.goal)\n",
    "#     solution3: Optional[Node[MazeLocation]] = astar(m.start, m.goal_test, m.successors, distance)\n",
    "#     if solution3 is None:\n",
    "#         print(\"No solution found using A* search!\")\n",
    "#     else:\n",
    "#         path3: List[MazeLocation] = node_to_path(solution3)\n",
    "#         m.mark(path3)\n",
    "#         print(m)\n",
    "#         m.clear(path3)"
   ]
  },
  {
   "cell_type": "markdown",
   "metadata": {},
   "source": [
    "The output will interestingly be a little different from `bfs()`, even though both `bfs()`  and `astar()` are finding optimal paths (equivalent in length). Due to its heuristic, `astar()` immediately drives through a diagonal toward the goal. It will ultimately search fewer states than `bfs()`, resulting in better performance. "
   ]
  },
  {
   "cell_type": "markdown",
   "metadata": {},
   "source": [
    "Congratulations!\n",
    "\n",
    "\n",
    "In some situations, DFS will outperform BFS, but BFS has the advantage of always delivering an optimal path. Interestingly,\n",
    "BFS and DFS have identical implementations, only differentiated by the use of a queue instead of a stack for the frontier. The slightly more complicated A* search, coupled with a good, consistent, admissible heuristic, not only delivers optimal paths, but also far outperforms BFS. And because all three of these functions were implemented generically, using them on nearly any search space is just an `import generic_search` away."
   ]
  }
 ],
 "metadata": {
  "kernelspec": {
   "display_name": "Python 3",
   "language": "python",
   "name": "python3"
  },
  "language_info": {
   "codemirror_mode": {
    "name": "ipython",
    "version": 3
   },
   "file_extension": ".py",
   "mimetype": "text/x-python",
   "name": "python",
   "nbconvert_exporter": "python",
   "pygments_lexer": "ipython3",
   "version": "3.8.3"
  }
 },
 "nbformat": 4,
 "nbformat_minor": 4
}
