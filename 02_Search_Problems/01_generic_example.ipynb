{
 "cells": [
  {
   "cell_type": "markdown",
   "metadata": {},
   "source": [
    "### A generic example\n",
    "\n",
    "The linear_contains() and binary_contains() can be generalized to work with almost any Python sequence. The following generalized versions are nearly identical to the versions you saw before, with only names and type hints changed."
   ]
  },
  {
   "cell_type": "code",
   "execution_count": 17,
   "metadata": {},
   "outputs": [],
   "source": [
    "from __future__ import annotations\n",
    "from typing import TypeVar, Iterable, Sequence, Generic, List, Callable, Set, Deque, Dict, Any, Optional, Protocol\n",
    "from heapq import heappush, heappop"
   ]
  },
  {
   "cell_type": "code",
   "execution_count": 18,
   "metadata": {},
   "outputs": [],
   "source": [
    "T = TypeVar('T')\n",
    "\n",
    "def linear_contains(iterable: Iterable[T], key: T) -> bool:\n",
    "    for item in iterable:\n",
    "        if item == key:\n",
    "            return True\n",
    "    return False"
   ]
  },
  {
   "cell_type": "code",
   "execution_count": 19,
   "metadata": {},
   "outputs": [],
   "source": [
    "C = TypeVar('C', bound = 'Comparable')  # Any type that is comparable with itself\n",
    "\n",
    "class Comparable(Protocol):\n",
    "    def __eq__(self, other: Any) -> bool:\n",
    "        ...\n",
    "    def __lt__(self: C, other: C) -> bool:\n",
    "        ...\n",
    "    def __gt__(self: C, other: C) -> bool:\n",
    "        return (not self < other) and self != other\n",
    "    def __le__(self: C, other: C) -> bool:\n",
    "        return self < other or self == other\n",
    "    def __ge__(self: C, other: C) -> bool:\n",
    "        return not self < other"
   ]
  },
  {
   "cell_type": "code",
   "execution_count": 20,
   "metadata": {},
   "outputs": [],
   "source": [
    "def binary_contains(sequence: Sequence[C], key: C) -> bool:\n",
    "    low: int = 0\n",
    "    high: int = len(sequence) - 1\n",
    "    while low <= high:    #while there is still a search space\n",
    "        mid: int = (low + high) // 2\n",
    "        if sequence[mid] < key:\n",
    "            low = mid + 1\n",
    "        elif sequence[mid] > key:\n",
    "            high = mid - 1\n",
    "        else:\n",
    "            return True\n",
    "    return False"
   ]
  },
  {
   "cell_type": "code",
   "execution_count": 21,
   "metadata": {},
   "outputs": [
    {
     "name": "stdout",
     "output_type": "stream",
     "text": [
      "True\n",
      "True\n",
      "False\n"
     ]
    }
   ],
   "source": [
    "# if __name__ == \"__main__\":\n",
    "#     print(linear_contains([1, 5, 15, 15, 15, 20], 5))  # False\n",
    "#     print(binary_contains([\"a\", \"d\", \"e\", \"f\", \"z\"], \"f\"))  #True\n",
    "#     print(binary_contains([\"john\",\"mark\", \"ronald\", \"sarah\"], \"sheila\"))  # False"
   ]
  },
  {
   "cell_type": "markdown",
   "metadata": {},
   "source": [
    "These functions can be reused for almost any Python collection. That is the pwoer of writing code generically. The only unfortunate element of this example is the convoluted hoops that had to be jumped through for Python's type hints, in the form of the Comparable class.\n",
    "\n",
    "A `Comparable` type is a type that implements the comparison operators (<, >, =, and so on). There should be a more succint way in future versions of Python to create a type of hint for types that implement these common operators."
   ]
  }
 ],
 "metadata": {
  "kernelspec": {
   "display_name": "Python 3",
   "language": "python",
   "name": "python3"
  },
  "language_info": {
   "codemirror_mode": {
    "name": "ipython",
    "version": 3
   },
   "file_extension": ".py",
   "mimetype": "text/x-python",
   "name": "python",
   "nbconvert_exporter": "python",
   "pygments_lexer": "ipython3",
   "version": "3.8.3"
  }
 },
 "nbformat": 4,
 "nbformat_minor": 4
}
