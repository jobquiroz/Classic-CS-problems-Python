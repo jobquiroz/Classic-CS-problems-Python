{
 "cells": [
  {
   "cell_type": "markdown",
   "metadata": {},
   "source": [
    "In the Fibonacci sequence, any number, except for the first and second, is the sum of the previous two:\n",
    "\n",
    "0, 1, 1, 2, 3, 5, 8, 13, 21, ...\n",
    "\n",
    "$$fib(n) = fib(n-1) + fib(n-1)$$"
   ]
  },
  {
   "cell_type": "markdown",
   "metadata": {},
   "source": [
    "### A first recursive attempt\n",
    "\n",
    "Utilizing base cases."
   ]
  },
  {
   "cell_type": "code",
   "execution_count": 16,
   "metadata": {},
   "outputs": [
    {
     "data": {
      "text/plain": [
       "75025"
      ]
     },
     "execution_count": 16,
     "metadata": {},
     "output_type": "execute_result"
    }
   ],
   "source": [
    "def fib2(n: int) -> int:\n",
    "    if n < 2: # Base case\n",
    "        return n\n",
    "    return fib2(n-1) + fib2(n-2)  #Recursive case\n",
    "\n",
    "fib2(25)"
   ]
  },
  {
   "cell_type": "markdown",
   "metadata": {},
   "source": [
    "### Memoization\n",
    "\n",
    "Memoization is a technique in whihc you store the results of computational tasks when they are completed so that when you need them again, you can look them up instead of needing to compute them a second time."
   ]
  },
  {
   "cell_type": "code",
   "execution_count": 25,
   "metadata": {},
   "outputs": [
    {
     "data": {
      "text/plain": [
       "12586269025"
      ]
     },
     "execution_count": 25,
     "metadata": {},
     "output_type": "execute_result"
    }
   ],
   "source": [
    "from typing import Dict\n",
    "#memo: Dict[int, int] = {0:0, 1:1}  #Base cases\n",
    "memo = {0:0, 1:1}\n",
    "\n",
    "def fib3(n):\n",
    "    if n not in memo:\n",
    "        memo[n] = fib3(n-1) + fib3(n-2) # memoization\n",
    "    return memo[n]\n",
    "\n",
    "fib3(50)"
   ]
  },
  {
   "cell_type": "markdown",
   "metadata": {},
   "source": [
    "### Automatic memoization\n",
    "\n",
    "Python has a built-in decorator for memoizing any function automagically.\n",
    "The decorator `@functools.lru_cache()` is used with the same exact code as we used in fib2(). Each time fib4() is executed with a novel argument, the decorator causes the return value to be cached. Upon future calls of `fib4()` with the same argument, the previous return value of fib4() for that argument is retrieved from the cache and returned."
   ]
  },
  {
   "cell_type": "code",
   "execution_count": 20,
   "metadata": {},
   "outputs": [
    {
     "data": {
      "text/plain": [
       "12586269025"
      ]
     },
     "execution_count": 20,
     "metadata": {},
     "output_type": "execute_result"
    }
   ],
   "source": [
    "from functools import lru_cache\n",
    "\n",
    "@lru_cache(maxsize=None)  #maxsize indicates how many of the most recent calls of the function it is decorating should be cached.\n",
    "                          # None = no limit\n",
    "def fib4(n):\n",
    "    if n < 2:  #Base case\n",
    "        return n\n",
    "    return fib4(n-2) +  fib4(n-1)  #Recursive case\n",
    "\n",
    "fib4(50)"
   ]
  },
  {
   "cell_type": "markdown",
   "metadata": {},
   "source": [
    "### A more performant option\n",
    "\n",
    "Using an old-fashioned iterative approach."
   ]
  },
  {
   "cell_type": "code",
   "execution_count": 22,
   "metadata": {},
   "outputs": [
    {
     "data": {
      "text/plain": [
       "12586269025"
      ]
     },
     "execution_count": 22,
     "metadata": {},
     "output_type": "execute_result"
    }
   ],
   "source": [
    "def fib5(n):\n",
    "    if n == 0: return n #special case\n",
    "    \n",
    "    # Using tuple unpacking\n",
    "    #last: int = 0   # initially set to fib(0)\n",
    "    #next: int = 1   # initially set to fib(1)\n",
    "    last = 0\n",
    "    next = 1\n",
    "    for _ in range(1,n):\n",
    "        last, next = next, last + next\n",
    "    return next\n",
    "\n",
    "fib5(50)"
   ]
  },
  {
   "cell_type": "markdown",
   "metadata": {},
   "source": [
    "With this approach, the body of the for loop will run a maximum of n-1 times. In other words, this is the most efficient version yet. \n",
    "\n",
    "In the recursive solutions, we worked backward. In this iterative solution, we work forward. "
   ]
  },
  {
   "cell_type": "markdown",
   "metadata": {},
   "source": [
    "### Generating Fibonacci numbers with a generator\n",
    "\n",
    "What if instead of having a single value as the output, we want to output the entire sequence up to some value? \n",
    "\n",
    "It is easy to convert fib5() into a Python generator using the `yield` statement. \n",
    "When the generator is iterated, each iteration will spew a value from the Fibonacci sequence using a `yield`statement."
   ]
  },
  {
   "cell_type": "code",
   "execution_count": 30,
   "metadata": {},
   "outputs": [
    {
     "name": "stdout",
     "output_type": "stream",
     "text": [
      "0\n",
      "1\n",
      "1\n",
      "2\n",
      "3\n",
      "5\n",
      "8\n",
      "13\n",
      "21\n",
      "34\n",
      "55\n",
      "89\n",
      "144\n",
      "233\n",
      "377\n",
      "610\n",
      "987\n",
      "1597\n",
      "2584\n",
      "4181\n",
      "6765\n",
      "10946\n",
      "17711\n",
      "28657\n",
      "46368\n",
      "75025\n",
      "121393\n",
      "196418\n",
      "317811\n",
      "514229\n",
      "832040\n",
      "1346269\n",
      "2178309\n",
      "3524578\n",
      "5702887\n",
      "9227465\n",
      "14930352\n",
      "24157817\n",
      "39088169\n",
      "63245986\n",
      "102334155\n",
      "165580141\n",
      "267914296\n",
      "433494437\n",
      "701408733\n",
      "1134903170\n",
      "1836311903\n",
      "2971215073\n",
      "4807526976\n",
      "7778742049\n",
      "12586269025\n"
     ]
    }
   ],
   "source": [
    "from typing import Generator\n",
    "\n",
    "def fib6(n:int) -> Generator[int, None, None]:\n",
    "    yield 0  #Special case\n",
    "    if n > 0: yield 1  # Special case\n",
    "    last = 0\n",
    "    next = 1\n",
    "    for _ in range(1,n):\n",
    "        last, next = next, last + next\n",
    "        yield next   #main generation step\n",
    "        \n",
    "for i in fib6(50):\n",
    "    print(i)"
   ]
  }
 ],
 "metadata": {
  "kernelspec": {
   "display_name": "Python 3",
   "language": "python",
   "name": "python3"
  },
  "language_info": {
   "codemirror_mode": {
    "name": "ipython",
    "version": 3
   },
   "file_extension": ".py",
   "mimetype": "text/x-python",
   "name": "python",
   "nbconvert_exporter": "python",
   "pygments_lexer": "ipython3",
   "version": "3.8.3"
  }
 },
 "nbformat": 4,
 "nbformat_minor": 4
}
